{
 "cells": [
  {
   "cell_type": "code",
   "execution_count": 1,
   "id": "a251ac71",
   "metadata": {},
   "outputs": [],
   "source": [
    "import numpy as np\n",
    "import tensorflow as tf\n",
    "from tensorflow import keras\n",
    "import pandas as pd\n",
    "import seaborn as sns\n",
    "from pylab import rcParams\n",
    "import matplotlib.pyplot as ply\n",
    "from matplotlib import rc\n",
    "from sklearn.model_selection import train_test_split\n",
    "from pandas.plotting import register_matplotlib_converters\n",
    "import plotly.express as px\n",
    "import plotly.graph_objects as go"
   ]
  },
  {
   "cell_type": "code",
   "execution_count": 2,
   "id": "1c4611f7",
   "metadata": {},
   "outputs": [],
   "source": [
    "# Carga del dataset Casos por COVID-19\n",
    "df1 = pd.read_csv(\"Covid-19EC_Dataset.csv\")"
   ]
  },
  {
   "cell_type": "code",
   "execution_count": 3,
   "id": "9f49566d",
   "metadata": {},
   "outputs": [
    {
     "name": "stdout",
     "output_type": "stream",
     "text": [
      "<class 'pandas.core.frame.DataFrame'>\n",
      "RangeIndex: 8610 entries, 0 to 8609\n",
      "Data columns (total 10 columns):\n",
      " #   Column                Non-Null Count  Dtype         \n",
      "---  ------                --------------  -----         \n",
      " 0   fecha                 8610 non-null   datetime64[ns]\n",
      " 1   día                   8610 non-null   int64         \n",
      " 2   mes                   8610 non-null   int64         \n",
      " 3   año                   8610 non-null   int64         \n",
      " 4   casosConfirmados      8610 non-null   int64         \n",
      " 5   casosDiarios          8610 non-null   int64         \n",
      " 6   fallecimientos        8610 non-null   int64         \n",
      " 7   nuevosFallecimientos  8610 non-null   int64         \n",
      " 8   provincia             8610 non-null   object        \n",
      " 9   región                8610 non-null   object        \n",
      "dtypes: datetime64[ns](1), int64(7), object(2)\n",
      "memory usage: 672.8+ KB\n"
     ]
    }
   ],
   "source": [
    "# Conversión del campo fecha\n",
    "df1[\"fecha\"] = pd.to_datetime(df1[\"fecha\"], errors = 'coerce')\n",
    "df1.info()"
   ]
  },
  {
   "cell_type": "code",
   "execution_count": null,
   "id": "0a4bd322",
   "metadata": {},
   "outputs": [],
   "source": [
    "df1"
   ]
  },
  {
   "cell_type": "code",
   "execution_count": null,
   "id": "56b7c618",
   "metadata": {},
   "outputs": [],
   "source": [
    "# Configuración del campo fecha como identificador\n",
    "df1.set_index(\"fecha\", inplace = True)"
   ]
  },
  {
   "cell_type": "code",
   "execution_count": null,
   "id": "2b1a1e2d",
   "metadata": {},
   "outputs": [],
   "source": [
    "df1"
   ]
  },
  {
   "cell_type": "code",
   "execution_count": null,
   "id": "31f352fa",
   "metadata": {},
   "outputs": [],
   "source": [
    "fig = px.line(df1, x=df1.index, y=\"casosConfirmados\", color=\"provincia\")\n",
    "fig.show()"
   ]
  },
  {
   "cell_type": "code",
   "execution_count": null,
   "id": "3d121dca",
   "metadata": {},
   "outputs": [],
   "source": [
    "AzuayCasosConfirmados=df1.loc[df1['provincia']=='Azuay', ['casosConfirmados']]\n",
    "AzuayCasosConfirmados"
   ]
  },
  {
   "cell_type": "code",
   "execution_count": null,
   "id": "d726b8b1",
   "metadata": {},
   "outputs": [],
   "source": [
    "AzuayCasosConfirmados"
   ]
  },
  {
   "cell_type": "code",
   "execution_count": null,
   "id": "647c454d",
   "metadata": {},
   "outputs": [],
   "source": [
    "AzuaMesFig = px.line(AzuayCasosConfirmados, x=AzuayCasosConfirmados.index, y=\"casosConfirmados\", title='Azuay')\n",
    "AzuaMesFig.show()"
   ]
  },
  {
   "cell_type": "markdown",
   "id": "7132c889",
   "metadata": {},
   "source": [
    "## Procesacccioneto previo"
   ]
  },
  {
   "cell_type": "markdown",
   "id": "c57c23a9",
   "metadata": {},
   "source": [
    "### Limpieza"
   ]
  },
  {
   "cell_type": "code",
   "execution_count": null,
   "id": "4c314ede",
   "metadata": {},
   "outputs": [],
   "source": []
  }
 ],
 "metadata": {
  "kernelspec": {
   "display_name": "Python 3 (ipykernel)",
   "language": "python",
   "name": "python3"
  },
  "language_info": {
   "codemirror_mode": {
    "name": "ipython",
    "version": 3
   },
   "file_extension": ".py",
   "mimetype": "text/x-python",
   "name": "python",
   "nbconvert_exporter": "python",
   "pygments_lexer": "ipython3",
   "version": "3.9.7"
  }
 },
 "nbformat": 4,
 "nbformat_minor": 5
}
