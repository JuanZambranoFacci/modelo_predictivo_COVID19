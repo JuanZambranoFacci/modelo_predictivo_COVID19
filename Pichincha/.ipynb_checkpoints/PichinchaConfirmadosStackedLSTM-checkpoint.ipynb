{
 "cells": [
  {
   "cell_type": "code",
   "execution_count": null,
   "id": "213623d1",
   "metadata": {},
   "outputs": [],
   "source": [
    "# Preparando requerimientos\n",
    "import math\n",
    "import pandas as pd\n",
    "import numpy as np\n",
    "import matplotlib.pyplot as plt\n",
    "from sklearn.preprocessing import MinMaxScaler\n",
    "from sklearn.metrics import mean_squared_error\n",
    "from keras.models import Sequential\n",
    "from keras.layers import Dense, LSTM, Dropout"
   ]
  },
  {
   "cell_type": "code",
   "execution_count": null,
   "id": "348abd85",
   "metadata": {},
   "outputs": [],
   "source": [
    "#Uso del backend de TensorFlow.\n",
    "RANDOM_SEED = 42\n",
    "TRAIN_CASE = 'casosDiarios'\n",
    "TRAIN_LOCATION = 'Azuay'\n",
    "DATATRAIN_SOURCE_FILE = 'Modelo predictivo COVID-19\\Covid-19EC_Dataset.csv'\n",
    "TEST_SIZE = 0.3\n",
    "LOOK_BACK = 1\n",
    "BATCH_SIZE = 1\n",
    "EPOCHS = 2000\n",
    "DAYS_TO_PREDICT = 30"
   ]
  },
  {
   "cell_type": "code",
   "execution_count": null,
   "id": "c542d8ce",
   "metadata": {},
   "outputs": [],
   "source": [
    "np.random.seed(RANDOM_SEED)"
   ]
  },
  {
   "cell_type": "markdown",
   "id": "eb2a41fc",
   "metadata": {},
   "source": [
    "## Obtención del conjunto de datos"
   ]
  },
  {
   "cell_type": "code",
   "execution_count": null,
   "id": "db171b5d",
   "metadata": {},
   "outputs": [],
   "source": [
    "df = pd.read_csv(DATATRAIN_SOURCE_FILE)\n",
    "if TRAIN_LOCATION:\n",
    "    df = df.loc[df['provincia']==TRAIN_LOCATION]\n",
    "df.drop(['provincia'], axis=1, inplace=True)\n",
    "df.set_index('fecha', inplace=True)\n",
    "df.index = pd.to_datetime(df.index)"
   ]
  },
  {
   "cell_type": "code",
   "execution_count": null,
   "id": "8ede5fb8",
   "metadata": {},
   "outputs": [],
   "source": [
    "df"
   ]
  },
  {
   "cell_type": "markdown",
   "id": "88c08043",
   "metadata": {},
   "source": [
    "## Obtención de la caja del tren y eliminación de todos los valores cero"
   ]
  },
  {
   "cell_type": "code",
   "execution_count": null,
   "id": "efe2fcc4",
   "metadata": {},
   "outputs": [],
   "source": [
    "cases = df.filter([TRAIN_CASE])\n",
    "cases = cases[(cases.T != 0).any()]"
   ]
  },
  {
   "cell_type": "markdown",
   "id": "29dbf81f",
   "metadata": {},
   "source": [
    "### Visualizacion de la tendencia de los casos"
   ]
  },
  {
   "cell_type": "code",
   "execution_count": null,
   "id": "ac1558c1",
   "metadata": {},
   "outputs": [],
   "source": [
    "plt.suptitle('Casos reales basados en \\'' + TRAIN_CASE + '\\'')\n",
    "plt.title('Provincia = ' + TRAIN_LOCATION, fontsize='medium')\n",
    "plt.plot(cases, label=TRAIN_CASE)\n",
    "plt.xlabel('Fecha')\n",
    "plt.ylabel('Casos')\n",
    "plt.xticks(rotation=45)\n",
    "plt.legend()\n",
    "plt.show()\n",
    "plt.show()"
   ]
  },
  {
   "cell_type": "code",
   "execution_count": null,
   "id": "4f172435",
   "metadata": {},
   "outputs": [],
   "source": [
    "cases.shape"
   ]
  },
  {
   "cell_type": "markdown",
   "id": "dc574d7e",
   "metadata": {},
   "source": [
    "## Preparación de funciones"
   ]
  },
  {
   "cell_type": "code",
   "execution_count": null,
   "id": "a3525dde",
   "metadata": {},
   "outputs": [],
   "source": [
    "# Esto dividirá los datos en un valor X e Y\n",
    "def data_split(data, look_back=1):\n",
    "    x, y = [], []\n",
    "    for i in range(len(data) - look_back - 1):\n",
    "        a = data[i:(i + look_back), 0]\n",
    "        x.append(a)\n",
    "        y.append(data[i + look_back, 0])\n",
    "    return np.array(x), np.array(y)"
   ]
  },
  {
   "cell_type": "markdown",
   "id": "57792f05",
   "metadata": {},
   "source": [
    "## Preparación de datos y modelos"
   ]
  },
  {
   "cell_type": "markdown",
   "id": "352df5d1",
   "metadata": {},
   "source": [
    "### Creación de datos de entrenamiento y prueba"
   ]
  },
  {
   "cell_type": "code",
   "execution_count": null,
   "id": "578a0e6a",
   "metadata": {},
   "outputs": [],
   "source": [
    "test_size = TEST_SIZE\n",
    "test_size = int(cases.shape[0] * test_size)\n",
    "train_cases = cases[:-test_size]\n",
    "test_cases = cases[-test_size:]"
   ]
  },
  {
   "cell_type": "code",
   "execution_count": null,
   "id": "c1d68820",
   "metadata": {},
   "outputs": [],
   "source": [
    "train_cases.shape"
   ]
  },
  {
   "cell_type": "code",
   "execution_count": null,
   "id": "83db5449",
   "metadata": {},
   "outputs": [],
   "source": [
    "test_cases.shape"
   ]
  },
  {
   "cell_type": "markdown",
   "id": "c94d60eb",
   "metadata": {},
   "source": [
    "### Normalizacion de los datos"
   ]
  },
  {
   "cell_type": "code",
   "execution_count": null,
   "id": "6bfebc0c",
   "metadata": {},
   "outputs": [],
   "source": [
    "# Escalamiento Minimos y Maximos\n",
    "scaler = MinMaxScaler(feature_range=(-1, 1))\n",
    "scaler = scaler.fit(cases)\n",
    "all_cases = scaler.transform(cases)\n",
    "train_cases = scaler.transform(train_cases)\n",
    "test_cases = scaler.transform(test_cases)"
   ]
  },
  {
   "cell_type": "code",
   "execution_count": null,
   "id": "3d4493c8",
   "metadata": {},
   "outputs": [],
   "source": [
    "all_cases.shape"
   ]
  },
  {
   "cell_type": "code",
   "execution_count": null,
   "id": "69a82115",
   "metadata": {},
   "outputs": [],
   "source": [
    "train_cases.shape"
   ]
  },
  {
   "cell_type": "code",
   "execution_count": null,
   "id": "fd666d84",
   "metadata": {},
   "outputs": [],
   "source": [
    "test_cases.shape"
   ]
  },
  {
   "cell_type": "markdown",
   "id": "13c8af45",
   "metadata": {},
   "source": [
    "### Dividir datos para obtener el valor X e Y"
   ]
  },
  {
   "cell_type": "code",
   "execution_count": null,
   "id": "5697285a",
   "metadata": {},
   "outputs": [],
   "source": [
    "look_back = LOOK_BACK\n",
    "X_all, Y_all = data_split(all_cases, look_back=look_back)\n",
    "X_train, Y_train = data_split(train_cases, look_back=look_back)\n",
    "X_test, Y_test = data_split(test_cases, look_back=look_back)"
   ]
  },
  {
   "cell_type": "code",
   "execution_count": null,
   "id": "b14e8766",
   "metadata": {},
   "outputs": [],
   "source": [
    "X_all.shape"
   ]
  },
  {
   "cell_type": "code",
   "execution_count": null,
   "id": "17b6e13c",
   "metadata": {},
   "outputs": [],
   "source": [
    "X_train.shape"
   ]
  },
  {
   "cell_type": "code",
   "execution_count": null,
   "id": "74dad94e",
   "metadata": {},
   "outputs": [],
   "source": [
    "X_test.shape"
   ]
  },
  {
   "cell_type": "markdown",
   "id": "451d25ad",
   "metadata": {},
   "source": [
    "Necesitamos convertir la forma de los datos al formato de forma LSTM (muestras, pasos de tiempo, características)\n",
    "\n",
    "Para hacer que un modelo pueda aprender de una secuencia, usaremos pasos de tiempo para la predicción de series de tiempo"
   ]
  },
  {
   "cell_type": "code",
   "execution_count": null,
   "id": "4131c8cb",
   "metadata": {},
   "outputs": [],
   "source": [
    "X_all = np.array(X_all).reshape(X_all.shape[0], 1, 1)\n",
    "Y_all = np.array(Y_all).reshape(Y_all.shape[0], 1)\n",
    "X_train = np.array(X_train).reshape(X_train.shape[0], 1, 1)\n",
    "Y_train = np.array(Y_train).reshape(Y_train.shape[0], 1)\n",
    "X_test = np.array(X_test).reshape(X_test.shape[0], 1, 1)\n",
    "Y_test = np.array(Y_test).reshape(Y_test.shape[0], 1)"
   ]
  },
  {
   "cell_type": "code",
   "execution_count": null,
   "id": "55860e4e",
   "metadata": {},
   "outputs": [],
   "source": [
    "X_all.shape"
   ]
  },
  {
   "cell_type": "code",
   "execution_count": null,
   "id": "ad89cdda",
   "metadata": {},
   "outputs": [],
   "source": [
    "Y_all.shape"
   ]
  },
  {
   "cell_type": "code",
   "execution_count": null,
   "id": "c6ee9718",
   "metadata": {},
   "outputs": [],
   "source": [
    "X_train.shape"
   ]
  },
  {
   "cell_type": "code",
   "execution_count": null,
   "id": "de15e22d",
   "metadata": {},
   "outputs": [],
   "source": [
    "Y_train.shape"
   ]
  },
  {
   "cell_type": "code",
   "execution_count": null,
   "id": "b5512ef2",
   "metadata": {},
   "outputs": [],
   "source": [
    "X_test.shape"
   ]
  },
  {
   "cell_type": "code",
   "execution_count": null,
   "id": "d58a8430",
   "metadata": {},
   "outputs": [],
   "source": [
    "Y_test.shape"
   ]
  },
  {
   "cell_type": "markdown",
   "id": "6a45db10",
   "metadata": {},
   "source": [
    "### Este es el modelo de predicción de series temporales LSTM"
   ]
  },
  {
   "cell_type": "code",
   "execution_count": null,
   "id": "3e48ab6b",
   "metadata": {},
   "outputs": [],
   "source": [
    "batch_size = BATCH_SIZE\n",
    "model = Sequential()\n",
    "model.add(LSTM(4, return_sequences=True, \n",
    "               batch_input_shape=(batch_size, X_train.shape[1], X_train.shape[2]), \n",
    "               stateful=True))\n",
    "model.add(LSTM(1, stateful=True))\n",
    "model.add(Dense(Y_train.shape[1]))\n",
    "model.compile(loss='mean_squared_error', optimizer='adam')\n",
    "print(model.summary())"
   ]
  },
  {
   "cell_type": "markdown",
   "id": "faac1f40",
   "metadata": {},
   "source": [
    "### Probando el modelo antes de ir a la predicción futura"
   ]
  },
  {
   "cell_type": "markdown",
   "id": "30ca7af9",
   "metadata": {},
   "source": [
    "Ajuste del modelo con los datos de entrenamiento"
   ]
  },
  {
   "cell_type": "code",
   "execution_count": null,
   "id": "bf573b9d",
   "metadata": {},
   "outputs": [],
   "source": [
    "epoch = EPOCHS\n",
    "loss = []\n",
    "for i in range(epoch):\n",
    "    print('Iteration ' + str(i + 1) + '/' + str(epoch))\n",
    "    model.fit(X_train, Y_train, batch_size=batch_size, \n",
    "              epochs=1, verbose=1, shuffle=False)\n",
    "    h = model.history\n",
    "    loss.append(h.history['loss'][0])\n",
    "    model.reset_states()"
   ]
  },
  {
   "cell_type": "markdown",
   "id": "5b8c7ee8",
   "metadata": {},
   "source": [
    "### Trazado del historial de pérdidas del modelo\n",
    "\n",
    "Una menor pérdida proporciona una mejor predicción"
   ]
  },
  {
   "cell_type": "code",
   "execution_count": null,
   "id": "a31c7383",
   "metadata": {},
   "outputs": [],
   "source": [
    "plt.plot(loss, label='loss')\n",
    "plt.title('historial de pérdidas del modelo')\n",
    "plt.xlabel('epoch')\n",
    "plt.ylabel('pérdidas')\n",
    "plt.legend()\n",
    "plt.show()"
   ]
  },
  {
   "cell_type": "markdown",
   "id": "a1bf5e1b",
   "metadata": {},
   "source": [
    "### Predicción con datos de trenes\n",
    "\n",
    "Esto también establecerá la entrada de predicción (entrada anterior) en el estado LSTM, que es útil para predecir el valor futuro."
   ]
  },
  {
   "cell_type": "code",
   "execution_count": null,
   "id": "2e2313d5",
   "metadata": {},
   "outputs": [],
   "source": [
    "all_predict = model.predict(X_all, batch_size=batch_size)"
   ]
  },
  {
   "cell_type": "markdown",
   "id": "2e8ba3b4",
   "metadata": {},
   "source": [
    "### Predicción del valor futuro hasta n días\n",
    "\n",
    "En nuestro caso, vamos a predecir hasta DAYS_TO_PREDICT días en el futuro."
   ]
  },
  {
   "cell_type": "code",
   "execution_count": null,
   "id": "3cd657d4",
   "metadata": {},
   "outputs": [],
   "source": [
    "days_to_predict = DAYS_TO_PREDICT\n",
    "future_predict = []\n",
    "pred_samples = all_predict[-1:]\n",
    "pred_samples = np.array([pred_samples])\n",
    "for i in range(days_to_predict):\n",
    "    pred = model.predict(pred_samples, batch_size=batch_size)\n",
    "    pred = np.array(pred).flatten()\n",
    "    future_predict.append(pred)\n",
    "    new_samples = np.array(pred_samples).flatten()\n",
    "    new_samples = np.append(new_samples, [pred])\n",
    "    new_samples = new_samples[1:]\n",
    "    pred_samples = np.array(new_samples).reshape(1, 1, 1)\n",
    "future_predict = np.array(future_predict).reshape(len(future_predict), 1, 1)"
   ]
  },
  {
   "cell_type": "markdown",
   "id": "59313145",
   "metadata": {},
   "source": [
    "#### Restablecer el estado de entrada LSTM para mayor seguridad"
   ]
  },
  {
   "cell_type": "code",
   "execution_count": null,
   "id": "708ca4ff",
   "metadata": {},
   "outputs": [],
   "source": [
    "model.reset_states()"
   ]
  },
  {
   "cell_type": "markdown",
   "id": "d0e0f1c3",
   "metadata": {},
   "source": [
    "#### Predecir utilizando la predicción futura anterior"
   ]
  },
  {
   "cell_type": "code",
   "execution_count": null,
   "id": "30e3629b",
   "metadata": {},
   "outputs": [],
   "source": [
    "f_future_predict = model.predict(future_predict, batch_size=batch_size)"
   ]
  },
  {
   "cell_type": "markdown",
   "id": "0990f372",
   "metadata": {},
   "source": [
    "#### Restablecer el estado de entrada LSTM para mayor seguridad"
   ]
  },
  {
   "cell_type": "code",
   "execution_count": null,
   "id": "c77fec4a",
   "metadata": {},
   "outputs": [],
   "source": [
    "model.reset_states()"
   ]
  },
  {
   "cell_type": "code",
   "execution_count": null,
   "id": "19e3351f",
   "metadata": {},
   "outputs": [],
   "source": [
    "X_all_flatten = np.array(scaler.inverse_transform(\n",
    "    np.array(X_all).reshape(X_all.shape[0], 1)\n",
    ")).flatten().astype('int')\n",
    "X_all_flatten = np.absolute(X_all_flatten)\n",
    "Y_all_flatten = np.array(scaler.inverse_transform(\n",
    "    np.array(Y_all).reshape(Y_all.shape[0], 1)\n",
    ")).flatten().astype('int')\n",
    "Y_all_flatten = np.absolute(Y_all_flatten)\n",
    "all_predict_flatten = np.array(scaler.inverse_transform(\n",
    "    np.array(all_predict).reshape(all_predict.shape[0], 1)\n",
    ")).flatten().astype('int')\n",
    "all_predict_flatten = np.absolute(all_predict_flatten)\n",
    "future_predict_flatten = np.array(scaler.inverse_transform(\n",
    "    np.array(future_predict).reshape(future_predict.shape[0], 1)\n",
    ")).flatten().astype('int')\n",
    "future_predict_flatten = np.absolute(future_predict_flatten)\n",
    "f_future_predict_flatten = np.array(scaler.inverse_transform(\n",
    "    np.array(f_future_predict).reshape(f_future_predict.shape[0], 1)\n",
    ")).flatten().astype('int')\n",
    "f_future_predict_flatten = np.absolute(f_future_predict_flatten)"
   ]
  },
  {
   "cell_type": "markdown",
   "id": "0c97dcba",
   "metadata": {},
   "source": [
    "### Obtener puntajes RMSE"
   ]
  },
  {
   "cell_type": "code",
   "execution_count": null,
   "id": "061bebd5",
   "metadata": {},
   "outputs": [],
   "source": [
    "all_predict_score = math.sqrt(\n",
    "    mean_squared_error(\n",
    "        Y_all_flatten, \n",
    "        all_predict_flatten\n",
    "    )\n",
    ")"
   ]
  },
  {
   "cell_type": "code",
   "execution_count": null,
   "id": "655e6180",
   "metadata": {},
   "outputs": [],
   "source": [
    "'All Score: %.2f RMSE' % (all_predict_score)"
   ]
  },
  {
   "cell_type": "markdown",
   "id": "3b5a13a4",
   "metadata": {},
   "source": [
    "### Generar índice futuro (fechas)"
   ]
  },
  {
   "cell_type": "code",
   "execution_count": null,
   "id": "89f58207",
   "metadata": {},
   "outputs": [],
   "source": [
    "future_index = pd.date_range(start=cases.index[-1], periods=days_to_predict + 1, closed='right')"
   ]
  },
  {
   "cell_type": "markdown",
   "id": "bd1d705f",
   "metadata": {},
   "source": [
    "#### Trazado de la visualización de predicciones futuras"
   ]
  },
  {
   "cell_type": "code",
   "execution_count": null,
   "id": "0560a1d5",
   "metadata": {},
   "outputs": [],
   "source": [
    "plt.plot(\n",
    "    future_index,\n",
    "    future_predict_flatten,\n",
    "    label='casos de predicción'\n",
    ")\n",
    "plt.suptitle('Predicciones futuras basadas en \\'' + TRAIN_CASE + '\\'')\n",
    "plt.title('Provincia = ' + TRAIN_LOCATION, fontsize='medium')\n",
    "plt.xlabel('fecha')\n",
    "plt.ylabel('casos')\n",
    "plt.xticks(rotation=45)\n",
    "plt.legend()\n",
    "plt.show()"
   ]
  },
  {
   "cell_type": "markdown",
   "id": "f14ad7c0",
   "metadata": {},
   "source": [
    "#### Trazado de la visualización de predicciones f_future"
   ]
  },
  {
   "cell_type": "code",
   "execution_count": null,
   "id": "15d54ced",
   "metadata": {},
   "outputs": [],
   "source": [
    "plt.plot(\n",
    "    future_index,\n",
    "    f_future_predict_flatten,\n",
    "    label='f_casos de predicción'\n",
    ")\n",
    "plt.suptitle('F_Predicciones futuras basadas en Predicción futura anterior')\n",
    "plt.title('Provincia = ' + TRAIN_LOCATION, fontsize='medium')\n",
    "plt.xlabel('fecha')\n",
    "plt.ylabel('casos')\n",
    "plt.xticks(rotation=45)\n",
    "plt.legend()\n",
    "plt.show()"
   ]
  },
  {
   "cell_type": "code",
   "execution_count": null,
   "id": "d2aba78c",
   "metadata": {},
   "outputs": [],
   "source": [
    "plt.plot(\n",
    "    cases.index[:len(X_all_flatten)],\n",
    "    X_all_flatten,\n",
    "    label='casos reales'\n",
    ")\n",
    "plt.plot(\n",
    "    cases.index[:len(X_all_flatten)],\n",
    "    all_predict_flatten,\n",
    "    label='casos reales de predicción'\n",
    ")\n",
    "plt.plot(\n",
    "    future_index,\n",
    "    future_predict_flatten,\n",
    "    label='predecir hasta ' + str(days_to_predict) + ' días en el futuro'\n",
    ")\n",
    "plt.plot(\n",
    "    future_index,\n",
    "    f_future_predict_flatten,\n",
    "    label='F_Predicciones futuras basadas en Predicción futura anterior'\n",
    ")\n",
    "plt.suptitle('Predicciones futuras basadas en \\'' + TRAIN_CASE + '\\'')\n",
    "plt.title('Provincia = ' + TRAIN_LOCATION, fontsize='medium')\n",
    "plt.xlabel('fecha')\n",
    "plt.ylabel('Casos')\n",
    "plt.xticks(rotation=45)\n",
    "plt.legend()\n",
    "plt.show()"
   ]
  },
  {
   "cell_type": "code",
   "execution_count": null,
   "id": "fe615008",
   "metadata": {},
   "outputs": [],
   "source": []
  }
 ],
 "metadata": {
  "kernelspec": {
   "display_name": "Python 3",
   "language": "python",
   "name": "python3"
  },
  "language_info": {
   "codemirror_mode": {
    "name": "ipython",
    "version": 3
   },
   "file_extension": ".py",
   "mimetype": "text/x-python",
   "name": "python",
   "nbconvert_exporter": "python",
   "pygments_lexer": "ipython3",
   "version": "3.8.8"
  }
 },
 "nbformat": 4,
 "nbformat_minor": 5
}
