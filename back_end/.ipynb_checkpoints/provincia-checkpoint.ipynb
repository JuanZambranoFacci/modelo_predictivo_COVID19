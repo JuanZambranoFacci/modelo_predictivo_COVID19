{
 "cells": [
  {
   "cell_type": "code",
   "execution_count": 1,
   "id": "a2b3fd42",
   "metadata": {},
   "outputs": [],
   "source": [
    "from datetime import datetime, timedelta\n",
    "\n",
    "import pandas as pd\n",
    "import numpy as np"
   ]
  },
  {
   "cell_type": "code",
   "execution_count": 3,
   "id": "9e0a820f",
   "metadata": {},
   "outputs": [],
   "source": [
    "class Datosprovinca:\n",
    "\n",
    "    def __init__(self):\n",
    "        self.download()\n",
    "\n",
    "    def download(self):\n",
    "        self.df = pd.read_csv('c:\\\\Users\\\\juank\\modelo_predictivo_COVID19\\\\Loja\\\\Dataset\\\\Enero-Marzo_2022_Serie temporal.csv')\n",
    "\n",
    "    def get_provincias(self, provincias, dates=True):\n",
    "        co = self.df[self.df['provincia'] == provincias].iloc[:,4:].T.sum(axis = 1)\n",
    "        co = pd.DataFrame(co)\n",
    "        co.columns = ['Casos']\n",
    "        co = co.loc[co['Casos'] > 0]\n",
    "\n",
    "        y = np.array(co['Casos'])\n",
    "        x = np.arange(y.size)\n",
    "        if dates:\n",
    "            start_date = pd.to_datetime(co.index[0], dayfirst=True)\n",
    "            end_date = pd.to_datetime(co.index[-1], dayfirst=True)\n",
    "            x_range = np.array([str(d.date()) for d in pd.date_range(start_date, end_date)])\n",
    "            return np.array([x, y, x_range])\n",
    "        return np.array([x, y])\n",
    "    \n",
    "    def show_provincias(self, start=None):\n",
    "        if start:\n",
    "            return self.df[self.df['provincia'].str.lower().str.contains(start.lower())]['provincia'].unique().tolist()\n",
    "        else:\n",
    "            return self.df['provincia'].unique().tolist()"
   ]
  },
  {
   "cell_type": "code",
   "execution_count": null,
   "id": "de878cdf",
   "metadata": {},
   "outputs": [],
   "source": []
  }
 ],
 "metadata": {
  "kernelspec": {
   "display_name": "Python 3 (ipykernel)",
   "language": "python",
   "name": "python3"
  },
  "language_info": {
   "codemirror_mode": {
    "name": "ipython",
    "version": 3
   },
   "file_extension": ".py",
   "mimetype": "text/x-python",
   "name": "python",
   "nbconvert_exporter": "python",
   "pygments_lexer": "ipython3",
   "version": "3.9.7"
  }
 },
 "nbformat": 4,
 "nbformat_minor": 5
}
