{
 "cells": [
  {
   "cell_type": "code",
   "execution_count": 1,
   "id": "48a8be51",
   "metadata": {},
   "outputs": [],
   "source": [
    "from datetime import timedelta\n",
    "import pandas as pd\n",
    "import numpy as np\n",
    "import plotly.graph_objects as go"
   ]
  },
  {
   "cell_type": "code",
   "execution_count": 2,
   "id": "2ec53498",
   "metadata": {},
   "outputs": [],
   "source": [
    "class modeloBase:\n",
    "    use_dates = False\n",
    "    is_trained = False\n",
    "    is_predicted = False\n",
    "\n",
    "    record = ''\n",
    "\n",
    "    def __init__(self, x_train, y_train, predict_len=15, plot=True, plot_name='', start_date=None):\n",
    "        self.x_train = np.asarray(x_train, dtype='float64')\n",
    "        self.y_train = np.asarray(y_train, dtype='float64')\n",
    "\n",
    "        self.x_pred = np.arange(x_train.size + int(predict_len))\n",
    "        self.y_pred = np.array([])\n",
    "        \n",
    "        self.plot_name = self.get_plot_name()\n",
    "        if start_date:\n",
    "            self.set_date_range(start_date)\n",
    "\n",
    "        self.train()\n",
    "        self.predict()\n",
    "        if plot:\n",
    "            self.chart = self.plot()\n",
    "\n",
    "    def get_plot_name(self):\n",
    "        return self.plot_name\n",
    "\n",
    "    def train(self):\n",
    "        pass\n",
    "\n",
    "    def predict(self):\n",
    "        return\n",
    "    \n",
    "    def set_date_range(self, start_date):\n",
    "        end_date = pd.to_datetime(start_date).date() + timedelta(days=self.x_pred.size - 1)\n",
    "        self.date_range = pd.Series([str(d.date()) for d in pd.date_range(str(start_date), end_date)])\n",
    "        self.use_dates = True\n",
    "    \n",
    "    def plot(self):\n",
    "        if not self.is_predicted:\n",
    "            raise RuntimeError('El modelo debe predecirse antes de trazar. Ejecute el método `predict`')\n",
    "\n",
    "        x = self.date_range if self.use_dates else self.x_pred\n",
    "        return go.Scatter(\n",
    "            x=x,\n",
    "            y=np.round_(self.y_pred),\n",
    "            mode='lines',\n",
    "            name=self.plot_name\n",
    "        )\n",
    "    \n",
    "    def log(self, text):\n",
    "        self.record += text"
   ]
  },
  {
   "cell_type": "code",
   "execution_count": null,
   "id": "4720b8f1",
   "metadata": {},
   "outputs": [],
   "source": []
  }
 ],
 "metadata": {
  "kernelspec": {
   "display_name": "Python 3 (ipykernel)",
   "language": "python",
   "name": "python3"
  },
  "language_info": {
   "codemirror_mode": {
    "name": "ipython",
    "version": 3
   },
   "file_extension": ".py",
   "mimetype": "text/x-python",
   "name": "python",
   "nbconvert_exporter": "python",
   "pygments_lexer": "ipython3",
   "version": "3.9.7"
  }
 },
 "nbformat": 4,
 "nbformat_minor": 5
}
