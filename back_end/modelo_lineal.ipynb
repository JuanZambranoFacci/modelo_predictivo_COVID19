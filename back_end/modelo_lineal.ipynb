{
 "cells": [
  {
   "cell_type": "code",
   "execution_count": 2,
   "id": "81049595",
   "metadata": {},
   "outputs": [],
   "source": [
    "from modelo_base import modeloBase\n",
    "\n",
    "import numpy as np\n",
    "from sklearn.linear_model import LinearRegression"
   ]
  },
  {
   "cell_type": "code",
   "execution_count": 3,
   "id": "c3f2601d",
   "metadata": {},
   "outputs": [],
   "source": [
    "class LinearModel(modeloBase):\n",
    "    plot_name = 'Linear'\n",
    "\n",
    "    def train(self):\n",
    "        x, y = np.reshape(self.x_train, (-1, 1)), np.reshape(self.y_train, (-1, 1))\n",
    "        self.model = LinearRegression().fit(x, y)\n",
    "        self.is_trained = True\n",
    "\n",
    "    def predict(self):\n",
    "        y_pred = self.model.predict(self.x_pred.reshape(-1, 1))\n",
    "        self.y_pred = y_pred.reshape(y_pred.size)\n",
    "        self.is_predicted = True"
   ]
  },
  {
   "cell_type": "code",
   "execution_count": null,
   "id": "ab173e3c",
   "metadata": {},
   "outputs": [],
   "source": []
  }
 ],
 "metadata": {
  "kernelspec": {
   "display_name": "Python 3 (ipykernel)",
   "language": "python",
   "name": "python3"
  },
  "language_info": {
   "codemirror_mode": {
    "name": "ipython",
    "version": 3
   },
   "file_extension": ".py",
   "mimetype": "text/x-python",
   "name": "python",
   "nbconvert_exporter": "python",
   "pygments_lexer": "ipython3",
   "version": "3.9.7"
  }
 },
 "nbformat": 4,
 "nbformat_minor": 5
}
