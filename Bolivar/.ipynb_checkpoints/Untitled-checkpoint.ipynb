{
 "cells": [
  {
   "cell_type": "code",
   "execution_count": null,
   "id": "ab3c8a6f",
   "metadata": {},
   "outputs": [],
   "source": [
    "# Preparando requerimientos\n",
    "import math\n",
    "import pandas as pd\n",
    "import numpy as np\n",
    "import matplotlib.pyplot as plt\n",
    "from sklearn.preprocessing import MinMaxScaler\n",
    "from sklearn.metrics import mean_squared_error\n",
    "from keras.models import Sequential\n",
    "from keras.layers import Dense, LSTM, Dropout"
   ]
  },
  {
   "cell_type": "code",
   "execution_count": null,
   "id": "cae31346",
   "metadata": {},
   "outputs": [],
   "source": [
    "#Uso del backend de TensorFlow.\n",
    "RANDOM_SEED = 42\n",
    "TRAIN_CASE = 'casosConfirmados'\n",
    "TRAIN_LOCATION = 'Bolivar'\n",
    "DATATRAIN_SOURCE_FILE = 'c:\\\\Users\\\\juank\\\\Modelo predictivo COVID-19\\\\Covid-19EC_Dataset.csv'\n",
    "TEST_SIZE = 0.3\n",
    "LOOK_BACK = 1\n",
    "BATCH_SIZE = 1\n",
    "EPOCHS = 2000\n",
    "DAYS_TO_PREDICT = 30"
   ]
  },
  {
   "cell_type": "code",
   "execution_count": null,
   "id": "28029d6d",
   "metadata": {},
   "outputs": [],
   "source": [
    "np.random.seed(RANDOM_SEED)"
   ]
  },
  {
   "cell_type": "markdown",
   "id": "0b067ff1",
   "metadata": {},
   "source": [
    "## Obtención del conjunto de datos"
   ]
  },
  {
   "cell_type": "code",
   "execution_count": null,
   "id": "186b935f",
   "metadata": {},
   "outputs": [],
   "source": [
    "df = pd.read_csv(DATATRAIN_SOURCE_FILE)\n",
    "if TRAIN_LOCATION:\n",
    "    df = df.loc[df['provincia']==TRAIN_LOCATION]\n",
    "df.drop(['provincia'], axis=1, inplace=True)\n",
    "df.set_index('fecha', inplace=True)\n",
    "df.index = pd.to_datetime(df.index)"
   ]
  },
  {
   "cell_type": "code",
   "execution_count": null,
   "id": "cf2d5c52",
   "metadata": {},
   "outputs": [],
   "source": [
    "df"
   ]
  },
  {
   "cell_type": "markdown",
   "id": "718622c0",
   "metadata": {},
   "source": [
    "## Obtención de la caja del tren y eliminación de todos los valores cero"
   ]
  },
  {
   "cell_type": "code",
   "execution_count": null,
   "id": "98cab049",
   "metadata": {},
   "outputs": [],
   "source": [
    "cases = df.filter([TRAIN_CASE])\n",
    "cases = cases[(cases.T != 0).any()]"
   ]
  },
  {
   "cell_type": "markdown",
   "id": "f3ced28a",
   "metadata": {},
   "source": [
    "### Visualizacion de la tendencia de los casos"
   ]
  },
  {
   "cell_type": "code",
   "execution_count": null,
   "id": "779cff7e",
   "metadata": {},
   "outputs": [],
   "source": [
    "plt.suptitle('Casos reales basados en \\'' + TRAIN_CASE + '\\'')\n",
    "plt.title('Provincia = ' + TRAIN_LOCATION, fontsize='medium')\n",
    "plt.plot(cases, label=TRAIN_CASE)\n",
    "plt.xlabel('Fecha')\n",
    "plt.ylabel('Casos')\n",
    "plt.xticks(rotation=45)\n",
    "plt.legend()\n",
    "plt.show()\n",
    "plt.show()"
   ]
  },
  {
   "cell_type": "code",
   "execution_count": null,
   "id": "036c889b",
   "metadata": {},
   "outputs": [],
   "source": [
    "cases.shape"
   ]
  },
  {
   "cell_type": "markdown",
   "id": "7ad9f945",
   "metadata": {},
   "source": [
    "## Preparación de funciones"
   ]
  },
  {
   "cell_type": "code",
   "execution_count": null,
   "id": "82a77263",
   "metadata": {},
   "outputs": [],
   "source": [
    "# Esto dividirá los datos en un valor X e Y\n",
    "def data_split(data, look_back=1):\n",
    "    x, y = [], []\n",
    "    for i in range(len(data) - look_back - 1):\n",
    "        a = data[i:(i + look_back), 0]\n",
    "        x.append(a)\n",
    "        y.append(data[i + look_back, 0])\n",
    "    return np.array(x), np.array(y)"
   ]
  },
  {
   "cell_type": "markdown",
   "id": "871d103b",
   "metadata": {},
   "source": [
    "## Preparación de datos y modelos"
   ]
  },
  {
   "cell_type": "markdown",
   "id": "09f14510",
   "metadata": {},
   "source": [
    "### Creación de datos de entrenamiento y prueba"
   ]
  },
  {
   "cell_type": "code",
   "execution_count": null,
   "id": "bd5bca74",
   "metadata": {},
   "outputs": [],
   "source": [
    "test_size = TEST_SIZE\n",
    "test_size = int(cases.shape[0] * test_size)\n",
    "train_cases = cases[:-test_size]\n",
    "test_cases = cases[-test_size:]"
   ]
  },
  {
   "cell_type": "code",
   "execution_count": null,
   "id": "4ffc07eb",
   "metadata": {},
   "outputs": [],
   "source": [
    "train_cases.shape"
   ]
  },
  {
   "cell_type": "code",
   "execution_count": null,
   "id": "9fb29604",
   "metadata": {},
   "outputs": [],
   "source": [
    "test_cases.shape"
   ]
  },
  {
   "cell_type": "markdown",
   "id": "7308c617",
   "metadata": {},
   "source": [
    "### Normalizacion de los datos"
   ]
  },
  {
   "cell_type": "code",
   "execution_count": null,
   "id": "bd589087",
   "metadata": {},
   "outputs": [],
   "source": [
    "# Escalamiento Minimos y Maximos\n",
    "scaler = MinMaxScaler(feature_range=(-1, 1))\n",
    "scaler = scaler.fit(cases)\n",
    "all_cases = scaler.transform(cases)\n",
    "train_cases = scaler.transform(train_cases)\n",
    "test_cases = scaler.transform(test_cases)"
   ]
  },
  {
   "cell_type": "code",
   "execution_count": null,
   "id": "ed6a0fec",
   "metadata": {},
   "outputs": [],
   "source": []
  }
 ],
 "metadata": {
  "kernelspec": {
   "display_name": "Python 3 (ipykernel)",
   "language": "python",
   "name": "python3"
  },
  "language_info": {
   "codemirror_mode": {
    "name": "ipython",
    "version": 3
   },
   "file_extension": ".py",
   "mimetype": "text/x-python",
   "name": "python",
   "nbconvert_exporter": "python",
   "pygments_lexer": "ipython3",
   "version": "3.9.7"
  }
 },
 "nbformat": 4,
 "nbformat_minor": 5
}
