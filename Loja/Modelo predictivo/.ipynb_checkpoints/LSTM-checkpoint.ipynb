{
 "cells": [
  {
   "cell_type": "code",
   "execution_count": 1,
   "id": "227cc906",
   "metadata": {},
   "outputs": [
    {
     "ename": "ModuleNotFoundError",
     "evalue": "No module named 'keras'",
     "output_type": "error",
     "traceback": [
      "\u001b[1;31m---------------------------------------------------------------------------\u001b[0m",
      "\u001b[1;31mModuleNotFoundError\u001b[0m                       Traceback (most recent call last)",
      "\u001b[1;32m~\\AppData\\Local\\Temp/ipykernel_14328/909548686.py\u001b[0m in \u001b[0;36m<module>\u001b[1;34m\u001b[0m\n\u001b[0;32m      5\u001b[0m \u001b[1;32mfrom\u001b[0m \u001b[0msklearn\u001b[0m\u001b[1;33m.\u001b[0m\u001b[0mpreprocessing\u001b[0m \u001b[1;32mimport\u001b[0m \u001b[0mMinMaxScaler\u001b[0m\u001b[1;33m\u001b[0m\u001b[1;33m\u001b[0m\u001b[0m\n\u001b[0;32m      6\u001b[0m \u001b[1;32mfrom\u001b[0m \u001b[0msklearn\u001b[0m\u001b[1;33m.\u001b[0m\u001b[0mmetrics\u001b[0m \u001b[1;32mimport\u001b[0m \u001b[0mmean_squared_error\u001b[0m\u001b[1;33m\u001b[0m\u001b[1;33m\u001b[0m\u001b[0m\n\u001b[1;32m----> 7\u001b[1;33m \u001b[1;32mfrom\u001b[0m \u001b[0mkeras\u001b[0m\u001b[1;33m.\u001b[0m\u001b[0mmodels\u001b[0m \u001b[1;32mimport\u001b[0m \u001b[0mSequential\u001b[0m\u001b[1;33m\u001b[0m\u001b[1;33m\u001b[0m\u001b[0m\n\u001b[0m\u001b[0;32m      8\u001b[0m \u001b[1;32mfrom\u001b[0m \u001b[0mkeras\u001b[0m\u001b[1;33m.\u001b[0m\u001b[0mlayers\u001b[0m \u001b[1;32mimport\u001b[0m \u001b[0mDense\u001b[0m\u001b[1;33m,\u001b[0m \u001b[0mLSTM\u001b[0m\u001b[1;33m,\u001b[0m \u001b[0mDropout\u001b[0m\u001b[1;33m\u001b[0m\u001b[1;33m\u001b[0m\u001b[0m\n\u001b[0;32m      9\u001b[0m \u001b[1;32mimport\u001b[0m \u001b[0mpandas\u001b[0m \u001b[1;32mas\u001b[0m \u001b[0mpd\u001b[0m\u001b[1;33m\u001b[0m\u001b[1;33m\u001b[0m\u001b[0m\n",
      "\u001b[1;31mModuleNotFoundError\u001b[0m: No module named 'keras'"
     ]
    }
   ],
   "source": [
    "# Preparando requerimientos\n",
    "import math\n",
    "import numpy as np\n",
    "import matplotlib.pyplot as plt\n",
    "from sklearn.preprocessing import MinMaxScaler\n",
    "from sklearn.metrics import mean_squared_error\n",
    "from keras.models import Sequential\n",
    "from keras.layers import Dense, LSTM, Dropout\n",
    "import pandas as pd\n",
    "import plotly.express as px"
   ]
  },
  {
   "cell_type": "markdown",
   "id": "3f5913d6",
   "metadata": {},
   "source": [
    "## Obtención del conjunto de datos"
   ]
  },
  {
   "cell_type": "code",
   "execution_count": null,
   "id": "57c8e813",
   "metadata": {},
   "outputs": [],
   "source": [
    "df = pd.read_csv('c:\\\\Users\\\\juank\\Modelo predictivo COVID-19\\\\Loja\\\\Dataset\\\\Enero-Marzo_2022.csv')"
   ]
  },
  {
   "cell_type": "code",
   "execution_count": null,
   "id": "7c4052ce",
   "metadata": {},
   "outputs": [],
   "source": [
    "df"
   ]
  },
  {
   "cell_type": "code",
   "execution_count": null,
   "id": "f1127a33",
   "metadata": {},
   "outputs": [],
   "source": [
    "format = \"%d/%m/%Y\"\n",
    "df['fecha'] = pd.to_datetime(df['fecha'], format=format)\n",
    "df = df.set_index(pd.DatetimeIndex(df['fecha']))"
   ]
  },
  {
   "cell_type": "code",
   "execution_count": null,
   "id": "ff5236f6",
   "metadata": {},
   "outputs": [],
   "source": [
    "df"
   ]
  },
  {
   "cell_type": "markdown",
   "id": "b7dbadb9",
   "metadata": {},
   "source": [
    "## Obtención de la caja del tren y eliminación de todos los valores cero"
   ]
  },
  {
   "cell_type": "code",
   "execution_count": null,
   "id": "c3f28dbb",
   "metadata": {},
   "outputs": [],
   "source": [
    "casos = df.drop(['fecha'], axis=1)"
   ]
  },
  {
   "cell_type": "code",
   "execution_count": null,
   "id": "dd2bb7bd",
   "metadata": {},
   "outputs": [],
   "source": [
    "casos"
   ]
  },
  {
   "cell_type": "code",
   "execution_count": null,
   "id": "383bce6a",
   "metadata": {},
   "outputs": [],
   "source": [
    "casos = casos[(casos.T != 0).any()]"
   ]
  },
  {
   "cell_type": "markdown",
   "id": "990cd772",
   "metadata": {},
   "source": [
    "### Visualizacion de la tendencia de los casos"
   ]
  },
  {
   "cell_type": "code",
   "execution_count": null,
   "id": "262d95c5",
   "metadata": {},
   "outputs": [],
   "source": [
    "fig = px.line(casos, x=casos.index, y=\"casosConfirmados\", line_shape=\"spline\", render_mode=\"svg\")\n",
    "fig.show()"
   ]
  },
  {
   "cell_type": "code",
   "execution_count": null,
   "id": "9e51f4e2",
   "metadata": {},
   "outputs": [],
   "source": [
    "np.random.seed(42)"
   ]
  },
  {
   "cell_type": "code",
   "execution_count": null,
   "id": "065a8a7d",
   "metadata": {},
   "outputs": [],
   "source": [
    "casos.shape"
   ]
  },
  {
   "cell_type": "markdown",
   "id": "db5680b4",
   "metadata": {},
   "source": [
    "## Preparación de funciones"
   ]
  },
  {
   "cell_type": "code",
   "execution_count": null,
   "id": "2a6c1e78",
   "metadata": {},
   "outputs": [],
   "source": [
    "# Esto dividirá los datos en un valor X e Y\n",
    "def data_split(data, look_back=1):\n",
    "    x, y = [], []\n",
    "    for i in range(len(data) - look_back - 1):\n",
    "        a = data[i:(i + look_back), 0]\n",
    "        x.append(a)\n",
    "        y.append(data[i + look_back, 0])\n",
    "    return np.array(x), np.array(y)"
   ]
  },
  {
   "cell_type": "markdown",
   "id": "2438bfd6",
   "metadata": {},
   "source": [
    "## Preparación de datos y modelos"
   ]
  },
  {
   "cell_type": "markdown",
   "id": "0bf7f615",
   "metadata": {},
   "source": [
    "### Creación de datos de entrenamiento y prueba"
   ]
  },
  {
   "cell_type": "code",
   "execution_count": null,
   "id": "99392c26",
   "metadata": {},
   "outputs": [],
   "source": [
    "test_size = 0.3\n",
    "test_size = int(casos.shape[0] * test_size)\n",
    "train_casos = casos[:-test_size]\n",
    "test_casos = casos[-test_size:]"
   ]
  },
  {
   "cell_type": "code",
   "execution_count": null,
   "id": "f9be35d3",
   "metadata": {},
   "outputs": [],
   "source": [
    "train_casos.shape"
   ]
  },
  {
   "cell_type": "code",
   "execution_count": null,
   "id": "1cee096c",
   "metadata": {},
   "outputs": [],
   "source": [
    "test_casos.shape"
   ]
  },
  {
   "cell_type": "markdown",
   "id": "e52f1623",
   "metadata": {},
   "source": [
    "### Normalizacion de los datos"
   ]
  },
  {
   "cell_type": "code",
   "execution_count": null,
   "id": "9765a6ae",
   "metadata": {},
   "outputs": [],
   "source": [
    "# Escalamiento Minimos y Maximos\n",
    "scaler = MinMaxScaler(feature_range=(-1, 1))\n",
    "scaler = scaler.fit(casos)\n",
    "all_casos = scaler.transform(casos)\n",
    "train_casos = scaler.transform(train_casos)\n",
    "test_casos = scaler.transform(test_casos)"
   ]
  },
  {
   "cell_type": "code",
   "execution_count": null,
   "id": "7fbc24b4",
   "metadata": {},
   "outputs": [],
   "source": [
    "all_casos.shape"
   ]
  },
  {
   "cell_type": "code",
   "execution_count": null,
   "id": "cbb36b88",
   "metadata": {},
   "outputs": [],
   "source": [
    "train_casos.shape"
   ]
  },
  {
   "cell_type": "code",
   "execution_count": null,
   "id": "970b0bfe",
   "metadata": {},
   "outputs": [],
   "source": [
    "test_casos.shape"
   ]
  },
  {
   "cell_type": "markdown",
   "id": "94a924cf",
   "metadata": {},
   "source": [
    "### Dividir datos para obtener el valor X e Y"
   ]
  },
  {
   "cell_type": "code",
   "execution_count": null,
   "id": "99074843",
   "metadata": {},
   "outputs": [],
   "source": [
    "look_back = 1\n",
    "X_all, Y_all = data_split(all_casos, look_back=look_back)\n",
    "X_train, Y_train = data_split(train_casos, look_back=look_back)\n",
    "X_test, Y_test = data_split(test_casos, look_back=look_back)"
   ]
  },
  {
   "cell_type": "code",
   "execution_count": null,
   "id": "5e4f9630",
   "metadata": {},
   "outputs": [],
   "source": [
    "X_all.shape"
   ]
  },
  {
   "cell_type": "code",
   "execution_count": null,
   "id": "954c717a",
   "metadata": {},
   "outputs": [],
   "source": [
    "X_train.shape"
   ]
  },
  {
   "cell_type": "code",
   "execution_count": null,
   "id": "369867e9",
   "metadata": {},
   "outputs": [],
   "source": [
    "X_test.shape"
   ]
  },
  {
   "cell_type": "markdown",
   "id": "fe60ff45",
   "metadata": {},
   "source": [
    "Necesitamos convertir la forma de los datos al formato de forma LSTM (muestras, pasos de tiempo, características)\n",
    "\n",
    "Para hacer que un modelo pueda aprender de una secuencia, usaremos pasos de tiempo para la predicción de series de tiempo"
   ]
  },
  {
   "cell_type": "code",
   "execution_count": null,
   "id": "4008c613",
   "metadata": {},
   "outputs": [],
   "source": [
    "X_all = np.array(X_all).reshape(X_all.shape[0], 1, 1)\n",
    "Y_all = np.array(Y_all).reshape(Y_all.shape[0], 1)\n",
    "X_train = np.array(X_train).reshape(X_train.shape[0], 1, 1)\n",
    "Y_train = np.array(Y_train).reshape(Y_train.shape[0], 1)\n",
    "X_test = np.array(X_test).reshape(X_test.shape[0], 1, 1)\n",
    "Y_test = np.array(Y_test).reshape(Y_test.shape[0], 1)"
   ]
  },
  {
   "cell_type": "code",
   "execution_count": null,
   "id": "699ab1dd",
   "metadata": {},
   "outputs": [],
   "source": [
    "X_all.shape"
   ]
  },
  {
   "cell_type": "code",
   "execution_count": null,
   "id": "702042aa",
   "metadata": {},
   "outputs": [],
   "source": [
    "Y_all.shape"
   ]
  },
  {
   "cell_type": "code",
   "execution_count": null,
   "id": "280ac1c4",
   "metadata": {},
   "outputs": [],
   "source": [
    "X_train.shape"
   ]
  },
  {
   "cell_type": "code",
   "execution_count": null,
   "id": "437e16a9",
   "metadata": {},
   "outputs": [],
   "source": [
    "Y_train.shape"
   ]
  },
  {
   "cell_type": "code",
   "execution_count": null,
   "id": "0891a76a",
   "metadata": {},
   "outputs": [],
   "source": [
    "X_test.shape"
   ]
  },
  {
   "cell_type": "markdown",
   "id": "c377a79e",
   "metadata": {},
   "source": [
    "Y_test.shape"
   ]
  },
  {
   "cell_type": "markdown",
   "id": "868967d0",
   "metadata": {},
   "source": [
    "### Este es el modelo de predicción de series temporales LSTM"
   ]
  },
  {
   "cell_type": "code",
   "execution_count": null,
   "id": "f329f90a",
   "metadata": {},
   "outputs": [],
   "source": [
    "batch_size = 1\n",
    "model = Sequential()\n",
    "model.add(LSTM(4, return_sequences=True, \n",
    "               batch_input_shape=(batch_size, X_train.shape[1], X_train.shape[2]), \n",
    "               stateful=True))\n",
    "model.add(LSTM(1, stateful=True))\n",
    "model.add(Dense(Y_train.shape[1]))\n",
    "model.compile(loss='mean_squared_error', optimizer='adam')\n",
    "print(model.summary())"
   ]
  },
  {
   "cell_type": "markdown",
   "id": "684fe96a",
   "metadata": {},
   "source": [
    "### Probando el modelo antes de ir a la predicción futura"
   ]
  },
  {
   "cell_type": "markdown",
   "id": "17d0abe8",
   "metadata": {},
   "source": [
    "Ajuste del modelo con los datos de entrenamiento"
   ]
  },
  {
   "cell_type": "code",
   "execution_count": null,
   "id": "5770e428",
   "metadata": {},
   "outputs": [],
   "source": [
    "epoch = 2000\n",
    "loss = []\n",
    "for i in range(epoch):\n",
    "    print('Iteration ' + str(i + 1) + '/' + str(epoch))\n",
    "    model.fit(X_train, Y_train, batch_size=batch_size, \n",
    "              epochs=1, verbose=1, shuffle=False)\n",
    "    h = model.history\n",
    "    loss.append(h.history['loss'][0])\n",
    "    model.reset_states()"
   ]
  },
  {
   "cell_type": "markdown",
   "id": "b427f48e",
   "metadata": {},
   "source": [
    "### Trazado del historial de pérdidas del modelo\n",
    "\n",
    "Una menor pérdida proporciona una mejor predicción"
   ]
  },
  {
   "cell_type": "code",
   "execution_count": null,
   "id": "3c247762",
   "metadata": {},
   "outputs": [],
   "source": [
    "plt.plot(loss, label='loss')\n",
    "plt.title('historial de pérdidas del modelo')\n",
    "plt.xlabel('epoch')\n",
    "plt.ylabel('pérdidas')\n",
    "plt.legend()\n",
    "plt.show()"
   ]
  },
  {
   "cell_type": "markdown",
   "id": "8c3213dd",
   "metadata": {},
   "source": [
    "### Predicción con datos de ENTENAMIENTO\n",
    "\n",
    "Esto también establecerá la entrada de predicción (entrada anterior) en el estado LSTM, que es útil para predecir el valor futuro."
   ]
  },
  {
   "cell_type": "code",
   "execution_count": null,
   "id": "86730906",
   "metadata": {},
   "outputs": [],
   "source": [
    "all_predict = model.predict(X_all, batch_size=batch_size)"
   ]
  },
  {
   "cell_type": "markdown",
   "id": "ddf580b2",
   "metadata": {},
   "source": [
    "### Predicción del valor futuro hasta n días\n",
    "\n",
    "En nuestro caso, vamos a predecir hasta DAYS_TO_PREDICT días en el futuro."
   ]
  },
  {
   "cell_type": "code",
   "execution_count": null,
   "id": "310b6943",
   "metadata": {},
   "outputs": [],
   "source": [
    "days_to_predict = 7\n",
    "future_predict = []\n",
    "pred_samples = all_predict[-1:]\n",
    "pred_samples = np.array([pred_samples])\n",
    "for i in range(days_to_predict):\n",
    "    pred = model.predict(pred_samples, batch_size=batch_size)\n",
    "    pred = np.array(pred).flatten()\n",
    "    future_predict.append(pred)\n",
    "    new_samples = np.array(pred_samples).flatten()\n",
    "    new_samples = np.append(new_samples, [pred])\n",
    "    new_samples = new_samples[1:]\n",
    "    pred_samples = np.array(new_samples).reshape(1, 1, 1)\n",
    "future_predict = np.array(future_predict).reshape(len(future_predict), 1, 1)"
   ]
  },
  {
   "cell_type": "markdown",
   "id": "106ef51a",
   "metadata": {},
   "source": [
    "#### Restablecer el estado de entrada LSTM para mayor seguridad"
   ]
  },
  {
   "cell_type": "code",
   "execution_count": null,
   "id": "6b0ceeea",
   "metadata": {},
   "outputs": [],
   "source": [
    "model.reset_states()"
   ]
  },
  {
   "cell_type": "markdown",
   "id": "37c05da3",
   "metadata": {},
   "source": [
    "#### Predecir utilizando la predicción futura anterior"
   ]
  },
  {
   "cell_type": "code",
   "execution_count": null,
   "id": "e05e030f",
   "metadata": {},
   "outputs": [],
   "source": [
    "f_future_predict = model.predict(future_predict, batch_size=batch_size)"
   ]
  },
  {
   "cell_type": "markdown",
   "id": "dd384c68",
   "metadata": {},
   "source": [
    "#### Restablecer el estado de entrada LSTM para mayor seguridad"
   ]
  },
  {
   "cell_type": "code",
   "execution_count": null,
   "id": "b9e8d017",
   "metadata": {},
   "outputs": [],
   "source": [
    "model.reset_states()"
   ]
  },
  {
   "cell_type": "code",
   "execution_count": null,
   "id": "b83ba1b2",
   "metadata": {},
   "outputs": [],
   "source": [
    "X_all_flatten = np.array(scaler.inverse_transform(\n",
    "    np.array(X_all).reshape(X_all.shape[0], 1)\n",
    ")).flatten().astype('int')\n",
    "X_all_flatten = np.absolute(X_all_flatten)\n",
    "Y_all_flatten = np.array(scaler.inverse_transform(\n",
    "    np.array(Y_all).reshape(Y_all.shape[0], 1)\n",
    ")).flatten().astype('int')\n",
    "Y_all_flatten = np.absolute(Y_all_flatten)\n",
    "all_predict_flatten = np.array(scaler.inverse_transform(\n",
    "    np.array(all_predict).reshape(all_predict.shape[0], 1)\n",
    ")).flatten().astype('int')\n",
    "all_predict_flatten = np.absolute(all_predict_flatten)\n",
    "future_predict_flatten = np.array(scaler.inverse_transform(\n",
    "    np.array(future_predict).reshape(future_predict.shape[0], 1)\n",
    ")).flatten().astype('int')\n",
    "future_predict_flatten = np.absolute(future_predict_flatten)\n",
    "f_future_predict_flatten = np.array(scaler.inverse_transform(\n",
    "    np.array(f_future_predict).reshape(f_future_predict.shape[0], 1)\n",
    ")).flatten().astype('int')\n",
    "f_future_predict_flatten = np.absolute(f_future_predict_flatten)"
   ]
  },
  {
   "cell_type": "markdown",
   "id": "62881233",
   "metadata": {},
   "source": [
    "### Obtener puntajes RMSE"
   ]
  },
  {
   "cell_type": "code",
   "execution_count": null,
   "id": "9c771966",
   "metadata": {},
   "outputs": [],
   "source": [
    "all_predict_score = math.sqrt(\n",
    "    mean_squared_error(\n",
    "        Y_all_flatten, \n",
    "        all_predict_flatten\n",
    "    )\n",
    ")"
   ]
  },
  {
   "cell_type": "code",
   "execution_count": null,
   "id": "f9f4bea0",
   "metadata": {},
   "outputs": [],
   "source": [
    "'All Score: %.2f RMSE' % (all_predict_score)"
   ]
  },
  {
   "cell_type": "markdown",
   "id": "ecf19748",
   "metadata": {},
   "source": [
    "### Generar índice futuro (fechas)"
   ]
  },
  {
   "cell_type": "code",
   "execution_count": null,
   "id": "db99877e",
   "metadata": {},
   "outputs": [],
   "source": [
    "future_index = pd.date_range(start=casos.index[-1], periods=days_to_predict + 1, closed='right')"
   ]
  },
  {
   "cell_type": "markdown",
   "id": "f1418cbe",
   "metadata": {},
   "source": [
    "#### Trazado de la visualización de predicciones futuras"
   ]
  },
  {
   "cell_type": "code",
   "execution_count": null,
   "id": "bfb61ff0",
   "metadata": {
    "scrolled": true
   },
   "outputs": [],
   "source": [
    "plt.plot(\n",
    "    future_index,\n",
    "    future_predict_flatten,\n",
    "    label='casos de predicción'\n",
    ")\n",
    "plt.suptitle('Predicciones futuras basadas en \\'' + 'casosConfirmados' + '\\'')\n",
    "plt.title('Provincia = ' + 'Loja', fontsize='medium')\n",
    "plt.xlabel('fecha')\n",
    "plt.ylabel('casos')\n",
    "plt.xticks(rotation=45)\n",
    "plt.legend()\n",
    "plt.show()"
   ]
  },
  {
   "cell_type": "markdown",
   "id": "fbd1e14a",
   "metadata": {},
   "source": [
    "#### Trazado de la visualización de predicciones f_future"
   ]
  },
  {
   "cell_type": "code",
   "execution_count": null,
   "id": "2e238bf4",
   "metadata": {},
   "outputs": [],
   "source": [
    "plt.plot(\n",
    "    future_index,\n",
    "    f_future_predict_flatten,\n",
    "    label='f_casos de predicción'\n",
    ")\n",
    "plt.suptitle('F_Predicciones futuras basadas en Predicción futura anterior')\n",
    "plt.title('Provincia = ' + 'Loja', fontsize='medium')\n",
    "plt.xlabel('fecha')\n",
    "plt.ylabel('casos')\n",
    "plt.xticks(rotation=45)\n",
    "plt.legend()\n",
    "plt.show()"
   ]
  },
  {
   "cell_type": "markdown",
   "id": "fbee669b",
   "metadata": {},
   "source": [
    "### Predicciones futuras basadas en casos confirmados"
   ]
  },
  {
   "cell_type": "code",
   "execution_count": null,
   "id": "6b267374",
   "metadata": {},
   "outputs": [],
   "source": [
    "plt.plot(\n",
    "    casos.index[:len(X_all_flatten)],\n",
    "    X_all_flatten,\n",
    "    label='casos reales'\n",
    ")\n",
    "plt.plot(\n",
    "    casos.index[:len(X_all_flatten)],\n",
    "    all_predict_flatten,\n",
    "    label='casos reales de predicción'\n",
    ")\n",
    "plt.plot(\n",
    "    future_index,\n",
    "    future_predict_flatten,\n",
    "    label='predecir hasta ' + str(days_to_predict) + ' días en el futuro'\n",
    ")\n",
    "plt.suptitle('Predicciones futuras basadas en \\'' + 'casosConfirmados' + '\\'')\n",
    "plt.title('Provincia = ' + 'Loja', fontsize='medium')\n",
    "plt.xlabel('fecha')\n",
    "plt.ylabel('Casos')\n",
    "plt.xticks(rotation=45)\n",
    "plt.legend()\n",
    "plt.show()"
   ]
  },
  {
   "cell_type": "markdown",
   "id": "a47552bd",
   "metadata": {},
   "source": [
    "### Predicciones próximos 7 días"
   ]
  },
  {
   "cell_type": "code",
   "execution_count": null,
   "id": "6250f2bf",
   "metadata": {},
   "outputs": [],
   "source": [
    "future_predict_flatten"
   ]
  }
 ],
 "metadata": {
  "kernelspec": {
   "display_name": "Python 3 (ipykernel)",
   "language": "python",
   "name": "python3"
  },
  "language_info": {
   "codemirror_mode": {
    "name": "ipython",
    "version": 3
   },
   "file_extension": ".py",
   "mimetype": "text/x-python",
   "name": "python",
   "nbconvert_exporter": "python",
   "pygments_lexer": "ipython3",
   "version": "3.9.7"
  }
 },
 "nbformat": 4,
 "nbformat_minor": 5
}
