{
 "cells": [
  {
   "cell_type": "code",
   "execution_count": 2,
   "id": "5c17af71",
   "metadata": {},
   "outputs": [],
   "source": [
    "from datetime import datetime, timedelta\n",
    "import json\n",
    "\n",
    "# grafico\n",
    "import chart_studio\n",
    "import chart_studio.plotly as py\n",
    "import plotly.graph_objects as go\n",
    "\n",
    "# manipulacion de dats\n",
    "import numpy as np\n",
    "import pandas as pd\n",
    "\n",
    "# modelos\n",
    "from scipy.optimize import curve_fit\n",
    "\n",
    "# herramientas de ML\n",
    "from sklearn.pipeline import Pipeline\n",
    "from sklearn.preprocessing import PolynomialFeatures\n",
    "from sklearn.linear_model import LinearRegression\n",
    "from sklearn.model_selection import cross_val_score"
   ]
  },
  {
   "cell_type": "code",
   "execution_count": 3,
   "id": "29c17107",
   "metadata": {},
   "outputs": [],
   "source": [
    "import sys, os\n",
    "sys.path.append(os.path.abspath('../'))"
   ]
  },
  {
   "cell_type": "code",
   "execution_count": 7,
   "id": "77bedd16",
   "metadata": {},
   "outputs": [],
   "source": [
    "df = pd.read_csv('c:\\\\Users\\\\juank\\Modelo predictivo COVID-19\\\\Loja\\\\Dataset\\\\Enero-Marzo_2022_Serie temporal.csv')"
   ]
  },
  {
   "cell_type": "code",
   "execution_count": 8,
   "id": "e1370a49",
   "metadata": {},
   "outputs": [
    {
     "data": {
      "text/html": [
       "<div>\n",
       "<style scoped>\n",
       "    .dataframe tbody tr th:only-of-type {\n",
       "        vertical-align: middle;\n",
       "    }\n",
       "\n",
       "    .dataframe tbody tr th {\n",
       "        vertical-align: top;\n",
       "    }\n",
       "\n",
       "    .dataframe thead th {\n",
       "        text-align: right;\n",
       "    }\n",
       "</style>\n",
       "<table border=\"1\" class=\"dataframe\">\n",
       "  <thead>\n",
       "    <tr style=\"text-align: right;\">\n",
       "      <th></th>\n",
       "      <th>provincia</th>\n",
       "      <th>1/1/2022</th>\n",
       "      <th>2/1/2022</th>\n",
       "      <th>3/1/2022</th>\n",
       "      <th>4/1/2022</th>\n",
       "      <th>5/1/2022</th>\n",
       "      <th>6/1/2022</th>\n",
       "      <th>7/1/2022</th>\n",
       "      <th>8/1/2022</th>\n",
       "      <th>9/1/2022</th>\n",
       "      <th>...</th>\n",
       "      <th>19/3/2022</th>\n",
       "      <th>20/3/2022</th>\n",
       "      <th>21/3/2022</th>\n",
       "      <th>22/3/2022</th>\n",
       "      <th>23/3/2022</th>\n",
       "      <th>24/3/2022</th>\n",
       "      <th>25/3/2022</th>\n",
       "      <th>26/3/2022</th>\n",
       "      <th>27/3/2022</th>\n",
       "      <th>28/3/2022</th>\n",
       "    </tr>\n",
       "  </thead>\n",
       "  <tbody>\n",
       "    <tr>\n",
       "      <th>0</th>\n",
       "      <td>Loja</td>\n",
       "      <td>19084</td>\n",
       "      <td>19101</td>\n",
       "      <td>19121</td>\n",
       "      <td>19140</td>\n",
       "      <td>19194</td>\n",
       "      <td>19246</td>\n",
       "      <td>19276</td>\n",
       "      <td>19328</td>\n",
       "      <td>19465</td>\n",
       "      <td>...</td>\n",
       "      <td>33182</td>\n",
       "      <td>33188</td>\n",
       "      <td>33190</td>\n",
       "      <td>33193</td>\n",
       "      <td>33200</td>\n",
       "      <td>33218</td>\n",
       "      <td>33237</td>\n",
       "      <td>33255</td>\n",
       "      <td>33261</td>\n",
       "      <td>33266</td>\n",
       "    </tr>\n",
       "  </tbody>\n",
       "</table>\n",
       "<p>1 rows × 88 columns</p>\n",
       "</div>"
      ],
      "text/plain": [
       "  provincia  1/1/2022  2/1/2022  3/1/2022  4/1/2022  5/1/2022  6/1/2022  \\\n",
       "0      Loja     19084     19101     19121     19140     19194     19246   \n",
       "\n",
       "   7/1/2022  8/1/2022  9/1/2022  ...  19/3/2022  20/3/2022  21/3/2022  \\\n",
       "0     19276     19328     19465  ...      33182      33188      33190   \n",
       "\n",
       "   22/3/2022  23/3/2022  24/3/2022  25/3/2022  26/3/2022  27/3/2022  28/3/2022  \n",
       "0      33193      33200      33218      33237      33255      33261      33266  \n",
       "\n",
       "[1 rows x 88 columns]"
      ]
     },
     "execution_count": 8,
     "metadata": {},
     "output_type": "execute_result"
    }
   ],
   "source": [
    "df"
   ]
  },
  {
   "cell_type": "code",
   "execution_count": 13,
   "id": "d80d8934",
   "metadata": {},
   "outputs": [
    {
     "data": {
      "text/html": [
       "<div>\n",
       "<style scoped>\n",
       "    .dataframe tbody tr th:only-of-type {\n",
       "        vertical-align: middle;\n",
       "    }\n",
       "\n",
       "    .dataframe tbody tr th {\n",
       "        vertical-align: top;\n",
       "    }\n",
       "\n",
       "    .dataframe thead th {\n",
       "        text-align: right;\n",
       "    }\n",
       "</style>\n",
       "<table border=\"1\" class=\"dataframe\">\n",
       "  <thead>\n",
       "    <tr style=\"text-align: right;\">\n",
       "      <th></th>\n",
       "      <th>28/3/2022</th>\n",
       "    </tr>\n",
       "    <tr>\n",
       "      <th>provincia</th>\n",
       "      <th></th>\n",
       "    </tr>\n",
       "  </thead>\n",
       "  <tbody>\n",
       "    <tr>\n",
       "      <th>Loja</th>\n",
       "      <td>33266</td>\n",
       "    </tr>\n",
       "  </tbody>\n",
       "</table>\n",
       "</div>"
      ],
      "text/plain": [
       "           28/3/2022\n",
       "provincia           \n",
       "Loja           33266"
      ]
     },
     "execution_count": 13,
     "metadata": {},
     "output_type": "execute_result"
    }
   ],
   "source": [
    "casos = df.iloc[:,[0,-1]].groupby('provincia').sum()\n",
    "fechaMasReciente = casos.columns[0]\n",
    "\n",
    "casos = casos.sort_values(by = mostrecentdate, ascending = False)\n",
    "casos = casos[(casos[mostrecentdate] >= 10)]\n",
    "casos.reset_index(inplace=True)\n",
    "casos = casos[casos['provincia'].isin(['Loja'])]\n",
    "casos.set_index('provincia', inplace=True)\n",
    "casos"
   ]
  },
  {
   "cell_type": "code",
   "execution_count": null,
   "id": "c20dcbbd",
   "metadata": {},
   "outputs": [],
   "source": [
    "import importlib\n",
    "from Modelo predictivo COVID-19 import modeloBase\n",
    "importlib.reload(countries)\n",
    "importlib.reload(models)\n",
    "c = countries.CountryData()\n",
    "data = c.get_country('Guatemala', dates=True)\n",
    "model = models.LinearModel(x_train=data[0], y_train=data[1])"
   ]
  }
 ],
 "metadata": {
  "kernelspec": {
   "display_name": "Python 3 (ipykernel)",
   "language": "python",
   "name": "python3"
  },
  "language_info": {
   "codemirror_mode": {
    "name": "ipython",
    "version": 3
   },
   "file_extension": ".py",
   "mimetype": "text/x-python",
   "name": "python",
   "nbconvert_exporter": "python",
   "pygments_lexer": "ipython3",
   "version": "3.9.7"
  }
 },
 "nbformat": 4,
 "nbformat_minor": 5
}
